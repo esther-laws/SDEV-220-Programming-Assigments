{
 "cells": [
  {
   "cell_type": "code",
   "execution_count": 2,
   "id": "c1dc77b6",
   "metadata": {},
   "outputs": [
    {
     "name": "stdout",
     "output_type": "stream",
     "text": [
      "['mozzarella', 'Cinderella', 'salmonella']\n",
      "['MOZZARELLA', 'Cinderella', 'salmonella']\n",
      "['MOZZARELLA', 'Cinderella']\n"
     ]
    }
   ],
   "source": [
    "# 7.4\n",
    "things = ['mozzarella', 'cinderella', 'salmonella']\n",
    "\n",
    "# 7.5\n",
    "personIndex = things.index(\"cinderella\")\n",
    "things[personIndex] = things[personIndex].capitalize()\n",
    "\n",
    "print(things)\n",
    "\n",
    "# 7.6\n",
    "cheesyIndex = things.index(\"mozzarella\")\n",
    "things[cheesyIndex] = things[cheesyIndex].upper()\n",
    "\n",
    "print(things)\n",
    "\n",
    "# 7.7\n",
    "diseaseIndex = things.index(\"salmonella\")\n",
    "del things[diseaseIndex]\n",
    "\n",
    "print(things)"
   ]
  },
  {
   "cell_type": "code",
   "execution_count": 3,
   "id": "6b131c9f",
   "metadata": {},
   "outputs": [
    {
     "name": "stdout",
     "output_type": "stream",
     "text": [
      "['Harry', 'Ron', 'Hermione']\n"
     ]
    }
   ],
   "source": [
    "# 9.1\n",
    "def good():\n",
    "    return ['Harry', 'Ron', 'Hermione']\n",
    "characters = good()\n",
    "print(characters)"
   ]
  },
  {
   "cell_type": "code",
   "execution_count": 4,
   "id": "5b41957b",
   "metadata": {},
   "outputs": [
    {
     "name": "stdout",
     "output_type": "stream",
     "text": [
      "Third odd number: 5\n"
     ]
    }
   ],
   "source": [
    "# 9.2\n",
    "def get_odds():\n",
    "    for num in range(10):\n",
    "        if num % 2 != 0:\n",
    "            yield num\n",
    "\n",
    "count = 0\n",
    "for num in get_odds():\n",
    "    count += 1\n",
    "    if count == 3:\n",
    "        print(\"Third odd number:\", num)\n",
    "        break"
   ]
  }
 ],
 "metadata": {
  "kernelspec": {
   "display_name": "Python 3 (ipykernel)",
   "language": "python",
   "name": "python3"
  },
  "language_info": {
   "codemirror_mode": {
    "name": "ipython",
    "version": 3
   },
   "file_extension": ".py",
   "mimetype": "text/x-python",
   "name": "python",
   "nbconvert_exporter": "python",
   "pygments_lexer": "ipython3",
   "version": "3.11.4"
  }
 },
 "nbformat": 4,
 "nbformat_minor": 5
}
