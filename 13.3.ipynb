{
 "cells": [
  {
   "cell_type": "code",
   "execution_count": null,
   "id": "3497fa6a",
   "metadata": {},
   "outputs": [],
   "source": [
    "import datetime\n",
    "\n",
    "# Assuming today_string contains the date in the \"YYYY-MM-DD\" format\n",
    "today_string = \"2023-10-09\"  # Replace this with the actual content of today_string\n",
    "\n",
    "# Parse the date from today_string\n",
    "try:\n",
    "    parsed_date = datetime.datetime.strptime(today_string, \"%Y-%m-%d\")\n",
    "    print(\"Parsed Date:\", parsed_date.strftime(\"%A, %B %d, %Y\"))\n",
    "except ValueError:\n",
    "    print(\"Invalid date format in today_string.\")"
   ]
  }
 ],
 "metadata": {
  "kernelspec": {
   "display_name": "Python 3 (ipykernel)",
   "language": "python",
   "name": "python3"
  },
  "language_info": {
   "codemirror_mode": {
    "name": "ipython",
    "version": 3
   },
   "file_extension": ".py",
   "mimetype": "text/x-python",
   "name": "python",
   "nbconvert_exporter": "python",
   "pygments_lexer": "ipython3",
   "version": "3.11.4"
  }
 },
 "nbformat": 4,
 "nbformat_minor": 5
}
