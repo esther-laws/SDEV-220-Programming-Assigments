{
 "cells": [
  {
   "cell_type": "code",
   "execution_count": 2,
   "id": "895fd0bf",
   "metadata": {},
   "outputs": [
    {
     "name": "stdout",
     "output_type": "stream",
     "text": [
      "Too low.\n"
     ]
    }
   ],
   "source": [
    "secret = 7\n",
    "guess = 3\n",
    "\n",
    "if guess < secret:\n",
    "    print(\"Too low.\")\n",
    "elif guess > secret:\n",
    "    print(\"Too high.\")\n",
    "else:\n",
    "    print(\"Just right.\")"
   ]
  },
  {
   "cell_type": "code",
   "execution_count": null,
   "id": "2201728e",
   "metadata": {},
   "outputs": [],
   "source": []
  }
 ],
 "metadata": {
  "kernelspec": {
   "display_name": "Python 3 (ipykernel)",
   "language": "python",
   "name": "python3"
  },
  "language_info": {
   "codemirror_mode": {
    "name": "ipython",
    "version": 3
   },
   "file_extension": ".py",
   "mimetype": "text/x-python",
   "name": "python",
   "nbconvert_exporter": "python",
   "pygments_lexer": "ipython3",
   "version": "3.11.4"
  }
 },
 "nbformat": 4,
 "nbformat_minor": 5
}
