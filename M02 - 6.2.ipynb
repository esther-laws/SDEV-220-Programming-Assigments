{
 "cells": [
  {
   "cell_type": "code",
   "execution_count": null,
   "id": "e3a1348e",
   "metadata": {},
   "outputs": [],
   "source": [
    "guess_me = 7\n",
    "number = 1\n",
    "\n",
    "while number <= guess_me:\n",
    "    if number < guess_me:\n",
    "        print(\"Too low.\")\n",
    "    elif number == guess_me:\n",
    "        print(\"Found it!\")\n",
    "        break\n",
    "    else:\n",
    "        print(\"Oops\")\n",
    "        break\n",
    "\n",
    "    number += 1"
   ]
  }
 ],
 "metadata": {
  "kernelspec": {
   "display_name": "Python 3 (ipykernel)",
   "language": "python",
   "name": "python3"
  },
  "language_info": {
   "codemirror_mode": {
    "name": "ipython",
    "version": 3
   },
   "file_extension": ".py",
   "mimetype": "text/x-python",
   "name": "python",
   "nbconvert_exporter": "python",
   "pygments_lexer": "ipython3",
   "version": "3.11.4"
  }
 },
 "nbformat": 4,
 "nbformat_minor": 5
}
