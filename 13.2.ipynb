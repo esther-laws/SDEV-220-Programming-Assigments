{
 "cells": [
  {
   "cell_type": "code",
   "execution_count": null,
   "id": "c5335adc",
   "metadata": {},
   "outputs": [],
   "source": [
    "today_string = \"\"\n",
    "\n",
    "try:\n",
    "    with open(\"today.txt\", \"r\") as file:\n",
    "        today_string = file.read()\n",
    "        print(\"Contents of today.txt have been read into today_string.\")\n",
    "except FileNotFoundError:\n",
    "    print(\"The 'today.txt' file does not exist.\")\n",
    "\n",
    "print(today_string)"
   ]
  }
 ],
 "metadata": {
  "kernelspec": {
   "display_name": "Python 3 (ipykernel)",
   "language": "python",
   "name": "python3"
  },
  "language_info": {
   "codemirror_mode": {
    "name": "ipython",
    "version": 3
   },
   "file_extension": ".py",
   "mimetype": "text/x-python",
   "name": "python",
   "nbconvert_exporter": "python",
   "pygments_lexer": "ipython3",
   "version": "3.11.4"
  }
 },
 "nbformat": 4,
 "nbformat_minor": 5
}
